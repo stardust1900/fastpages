{
    "cells": [
        {
            "cell_type": "markdown",
            "source": [
                "# 文艺编程\n",
                "> 文艺，文艺，最文艺\n",
                "- author: 王一刀\n",
                "- toc: false\n",
                "- badges: false\n",
                "- comments: true\n",
                "- categories: [fastpages]\n",
                "\n"
            ],
            "metadata": {}
        },
        {
            "cell_type": "code",
            "execution_count": 1,
            "source": [
                "import this"
            ],
            "outputs": [
                {
                    "output_type": "stream",
                    "name": "stdout",
                    "text": [
                        "The Zen of Python, by Tim Peters\n",
                        "\n",
                        "Beautiful is better than ugly.\n",
                        "Explicit is better than implicit.\n",
                        "Simple is better than complex.\n",
                        "Complex is better than complicated.\n",
                        "Flat is better than nested.\n",
                        "Sparse is better than dense.\n",
                        "Readability counts.\n",
                        "Special cases aren't special enough to break the rules.\n",
                        "Although practicality beats purity.\n",
                        "Errors should never pass silently.\n",
                        "Unless explicitly silenced.\n",
                        "In the face of ambiguity, refuse the temptation to guess.\n",
                        "There should be one-- and preferably only one --obvious way to do it.\n",
                        "Although that way may not be obvious at first unless you're Dutch.\n",
                        "Now is better than never.\n",
                        "Although never is often better than *right* now.\n",
                        "If the implementation is hard to explain, it's a bad idea.\n",
                        "If the implementation is easy to explain, it may be a good idea.\n",
                        "Namespaces are one honking great idea -- let's do more of those!\n"
                    ]
                }
            ],
            "metadata": {}
        },
        {
            "cell_type": "markdown",
            "source": [
                "编程之禅\n",
                "\n"
            ],
            "metadata": {}
        },
        {
            "cell_type": "code",
            "execution_count": 6,
            "source": [
                "S0 = 100.\n",
                "K = 105.\n",
                "T = 1.0\n",
                "r = 0.05\n",
                "sigma = 0.2\n",
                "from math import *\n",
                "from numpy import *\n",
                "I = 100000\n",
                "\n",
                "z = random.standard_normal(I)\n",
                "\n",
                "ST = S0 * exp((r - 0.5 * sigma ** 2) * T + sigma * sqrt(T) * z)\n",
                "hT = maximum(ST - K,0)\n",
                "C0 = exp(-r * T) * sum(hT) / I\n",
                "\n",
                "print(\"value of the European Call Option %5.3f\" % C0)\n"
            ],
            "outputs": [
                {
                    "output_type": "stream",
                    "name": "stdout",
                    "text": [
                        "value of the European Call Option 8.006\n"
                    ]
                }
            ],
            "metadata": {}
        }
    ],
    "metadata": {
        "orig_nbformat": 4,
        "language_info": {
            "name": "python",
            "version": "3.7.0",
            "mimetype": "text/x-python",
            "codemirror_mode": {
                "name": "ipython",
                "version": 3
            },
            "pygments_lexer": "ipython3",
            "nbconvert_exporter": "python",
            "file_extension": ".py"
        },
        "kernelspec": {
            "name": "python3",
            "display_name": "Python 3.7.0 64-bit"
        },
        "interpreter": {
            "hash": "aee8b7b246df8f9039afb4144a1f6fd8d2ca17a180786b69acc140d282b71a49"
        }
    },
    "nbformat": 4,
    "nbformat_minor": 2
}