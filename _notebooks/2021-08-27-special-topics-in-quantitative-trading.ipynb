{
    "cells": [
        {
            "cell_type": "markdown",
            "source": [
                "# CH7-量化交易专题\n",
                "> Special Topics in Quantitative Trading\n",
                "- author: 王一刀\n",
                "- toc: false\n",
                "- badges: false\n",
                "- comments: true\n",
                "- categories: [量化交易]"
            ],
            "metadata": {}
        },
        {
            "cell_type": "markdown",
            "source": [
                "## 均值回归策略和惯性策略\n",
                "\n",
                "只有当证券价格是均值回归的或趋势的，交易策略才能盈利。否则，价格是随机漫步的，交易将无利可图。\n",
                "如果你相信价格是均值回归的，并且目前相对较低，应当现在买入，并准备在以后价格升高时卖出。但是，如果你相信价格是趋势的，且目前处于低位，应当现在卖出，并准备在以后价格更低时买入。价格处于高位则刚好相反。\n",
                "\n",
                "学术研究表明，股票价格“一般而言”非常接近随机漫步。但这并不意味着在特殊条件下价格不会表现出一定程度的均值回归或趋势行为。\n"
            ],
            "metadata": {}
        },
        {
            "cell_type": "code",
            "execution_count": null,
            "source": [],
            "outputs": [],
            "metadata": {}
        }
    ],
    "metadata": {
        "orig_nbformat": 4,
        "language_info": {
            "name": "python"
        }
    },
    "nbformat": 4,
    "nbformat_minor": 2
}