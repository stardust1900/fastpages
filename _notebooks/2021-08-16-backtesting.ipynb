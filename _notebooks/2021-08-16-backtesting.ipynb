{
    "cells": [
        {
            "cell_type": "markdown",
            "source": [
                "# CH3-回测\n",
                "> Backtesting\n",
                "- author: 王一刀\n",
                "- toc: false\n",
                "- badges: false\n",
                "- comments: true\n",
                "- categories: [量化交易]"
            ],
            "metadata": {}
        },
        {
            "cell_type": "markdown",
            "source": [
                "> A key difference between a traditional investment management process and a quantitative investment process is the possibility of back\u0002testing a quantitative investment strategy to see how it would have performed in the past\n",
                "\n",
                "量化投资流程和传统投资管理流程最重要的区别是：量化投资策略可以进行回测以观察它在过去的表现。\n",
                "\n",
                "## 常用的回测工具\n",
                "\n",
                "* Excel\n",
                ">  The major disadvantage of Excel is that it can be used to backtest only fairly simple models.But, as I explained in the previous chapter, simple models are often the best!\n",
                "\n",
                "Excel的主要缺点是只能用于简单模型的回测。但是，简单模型往往是最好的。\n",
                "\n",
                "* MATLAB\n",
                "\n",
                "MATLAB优点很多，功能强大，但是价格昂贵。有一些替代品:\n",
                "\n",
                "[O-Matrix](http://www.omatrix.com)\n",
                "\n",
                "[Octave](http://www.gnu.org/software/octave)\n",
                "\n",
                "[Scilab](http://www.scilab.org)\n",
                "\n",
                "* TradeStation\n",
                "\n",
                "* High-End Backtesting Platforms\n",
                "\n",
                "## 寻找并使用历史数据库\n",
                "\n",
                "> While finding sources of data on the Internet is even easier than finding prospective strategies, there are a number of issues and pit\u0002falls with many of these databases that I will discuss later in this sec\u0002tion. These issues apply mostly to stock and exchange-traded fund (ETF) data only. Here are the most important ones.\n",
                "\n",
                "虽然在互联网上寻找数据源比寻找有效的策略容易，但这些数据中存在问题和陷阱。下面是最主要的问题，这些问题仅适用股票和交易基金数据。\n",
                "\n",
                "* 数据是否已经过分拆和股息调整？\n",
                "* 是否剔除了幸存偏差数据？\n",
                "* 你的策略用最高最低价吗？\n",
                "\n",
                "> 使用最高最低价的回测没有使用开盘收盘价的回测可靠。\n",
                "\n",
                "* 业绩度量\n",
                "\n",
                "**夏普比率**\n",
                "\n",
                "![](images/2021/08/sharp.jpg)\n",
                "\n",
                "年化夏普比率的计算：一般而言，假设每个交易时段的长度为T，T可以是1个月、1天、1小时等，若要计算平均收益率、标准差以及相应的年化指标，就必须先算出一年的交易时段数$N_T$\n",
                "\n",
                "$年化夏普比率= \\sqrt {N_T} * 基于T的夏普比率$\n",
                "\n",
                "年化标准差和日标准差的关系推理：\n",
                "\n",
                "![](images/2021/08/variance.jpg)\n",
                "\n",
                "其中cov是指协方差。\n",
                "\n",
                "\n",
                "**最大挫跌和最长挫跌期**\n",
                "\n",
                "![](images/2021/08/drawdown.jpg)\n",
                "\n",
                "这个指标算起来挺麻烦，从图中看的话，倒是挺直观。\n",
                "\n",
                "## 避免常见的回测陷阱\n",
                "\n",
                "* 前视偏差\n",
                "\n",
                "例如，“在日最低价的1%之内买入股票”的交易规则，就有前视偏差，因为在当日市场收盘前，是不可能知道日最低价的。\n",
                "\n",
                "* 数据迁就偏差\n",
                "\n",
                "因迁就历史数据的噪声而过度优化模型参数，造成策略的回测业绩高于未来业绩，即为数据迁就偏差。\n",
                "\n",
                "## 交易成本\n",
                "\n",
                "没有考虑交易成本的回测业绩是不真实的。\n",
                "\n",
                "## 策略改进\n",
                "\n",
                "对基本策略进行微小调整，来提升收益。策略的改进，最好基于经济学基本原理，或者透彻研究过的市场现象，而不是依据一些主观的试错法则。否则，就有可能产生数据迁就偏差。\n",
                "\n",
                "\n",
                "\n"
            ],
            "metadata": {}
        },
        {
            "cell_type": "code",
            "execution_count": 6,
            "source": [
                "import pandas as pd \n",
                "import numpy as np\n",
                "\n",
                "xlsx = pd.ExcelFile(\"datas/example3_4.xls\")\n",
                "df = pd.read_excel(xlsx,\"table\")\n",
                "# 计算每日收益率：\n",
                "df['daily_ret'] = df['Adj Close'].pct_change()\n",
                "#假设年化收益率为4%，每年252个交易日 计算每日超额收益\n",
                "df['excess_daily_ret'] = df['daily_ret'] - 0.04/252\n",
                "\n",
                "sharp_ratio = np.sqrt(252) * df['excess_daily_ret'].mean() / df['excess_daily_ret'].std()\n",
                "\n",
                "print(sharp_ratio)"
            ],
            "outputs": [
                {
                    "output_type": "stream",
                    "name": "stdout",
                    "text": [
                        "0.7889300350874483\n"
                    ]
                }
            ],
            "metadata": {}
        }
    ],
    "metadata": {
        "orig_nbformat": 4,
        "language_info": {
            "name": "python",
            "version": "3.7.0",
            "mimetype": "text/x-python",
            "codemirror_mode": {
                "name": "ipython",
                "version": 3
            },
            "pygments_lexer": "ipython3",
            "nbconvert_exporter": "python",
            "file_extension": ".py"
        },
        "kernelspec": {
            "name": "python3",
            "display_name": "Python 3.7.0 64-bit"
        },
        "interpreter": {
            "hash": "aee8b7b246df8f9039afb4144a1f6fd8d2ca17a180786b69acc140d282b71a49"
        }
    },
    "nbformat": 4,
    "nbformat_minor": 2
}