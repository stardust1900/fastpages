{
    "cells": [
        {
            "cell_type": "markdown",
            "source": [
                "# \"南京疫情数据\"\n",
                "> \"ipynb 测试\"\n",
                "\n",
                "- badges: false\n",
                "- author: 王一刀\n",
                "- categories: [南京疫情]"
            ],
            "metadata": {}
        },
        {
            "cell_type": "code",
            "execution_count": 18,
            "source": [
                "import pandas as pd\n",
                "import altair as alt\n",
                "\n",
                "cols = [\"日期\",\"重症\",\"普通\",\"轻型\",\"无症状\",\"重症累计\",\"普通累计\",\"轻型累计\",\"无症状累计\"]\n",
                "\n",
                "data = [\n",
                "    ['2021-07-21',0,5,6,8,0,5,6,8],\n",
                "    ['2021-07-22',0,7,5,6,0,12,11,14],\n",
                "    ['2021-07-23',0,9,3,4,0,21,14,18],\n",
                "    ['2021-07-24',0,2,0,2,0,23,14,20],\n",
                "    ['2021-07-25',0,11,27,1,2,32,41,13],\n",
                "    ['2021-07-26',0,3,28,0,2,38,66,6],\n",
                "    ['2021-07-27',0,24,23,1,4,68,81,2],\n",
                "    ['2021-07-28',0,8,10,0,7,86,78,2],\n",
                "    ['2021-07-29',0,3,10,1,8,94,82,1],\n",
                "    ['2021-07-30',0,1,5,0,8,95,87,1],\n",
                "    ['2021-07-31',0,2,12,0,7,114,83,0],\n",
                "    ['2021-08-01',0,5,6,0,7,127,81,0],\n",
                "    ['2021-08-02',0,2,3,0,6,132,82,0]\n",
                "]\n",
                "\n",
                "alldf = pd.DataFrame(data=data,columns=cols)\n",
                "\n",
                "df1 = alldf.melt(id_vars=[\"日期\"],value_vars=[\"重症\",\"普通\",\"轻型\",\"无症状\"],var_name=\"症状\",value_name=\"人数\").sort_values(by=[\"日期\"])\n",
                "\n",
                "alt.Chart(df1).mark_line().encode(\n",
                "    x='日期',\n",
                "    y='人数',\n",
                "    color='症状',\n",
                "    strokeDash='症状',\n",
                ").properties(\n",
                "    title='南京疫情 每日新增',\n",
                "    width=600,\n",
                "    height=400\n",
                ")\n",
                "\n"
            ],
            "outputs": [
                {
                    "output_type": "execute_result",
                    "data": {
                        "text/plain": [
                            "alt.Chart(...)"
                        ],
                        "text/html": [
                            "\n",
                            "<div id=\"altair-viz-c61a2c1019164a02973c037094e5ae24\"></div>\n",
                            "<script type=\"text/javascript\">\n",
                            "  (function(spec, embedOpt){\n",
                            "    let outputDiv = document.currentScript.previousElementSibling;\n",
                            "    if (outputDiv.id !== \"altair-viz-c61a2c1019164a02973c037094e5ae24\") {\n",
                            "      outputDiv = document.getElementById(\"altair-viz-c61a2c1019164a02973c037094e5ae24\");\n",
                            "    }\n",
                            "    const paths = {\n",
                            "      \"vega\": \"https://cdn.jsdelivr.net/npm//vega@5?noext\",\n",
                            "      \"vega-lib\": \"https://cdn.jsdelivr.net/npm//vega-lib?noext\",\n",
                            "      \"vega-lite\": \"https://cdn.jsdelivr.net/npm//vega-lite@4.8.1?noext\",\n",
                            "      \"vega-embed\": \"https://cdn.jsdelivr.net/npm//vega-embed@6?noext\",\n",
                            "    };\n",
                            "\n",
                            "    function loadScript(lib) {\n",
                            "      return new Promise(function(resolve, reject) {\n",
                            "        var s = document.createElement('script');\n",
                            "        s.src = paths[lib];\n",
                            "        s.async = true;\n",
                            "        s.onload = () => resolve(paths[lib]);\n",
                            "        s.onerror = () => reject(`Error loading script: ${paths[lib]}`);\n",
                            "        document.getElementsByTagName(\"head\")[0].appendChild(s);\n",
                            "      });\n",
                            "    }\n",
                            "\n",
                            "    function showError(err) {\n",
                            "      outputDiv.innerHTML = `<div class=\"error\" style=\"color:red;\">${err}</div>`;\n",
                            "      throw err;\n",
                            "    }\n",
                            "\n",
                            "    function displayChart(vegaEmbed) {\n",
                            "      vegaEmbed(outputDiv, spec, embedOpt)\n",
                            "        .catch(err => showError(`Javascript Error: ${err.message}<br>This usually means there's a typo in your chart specification. See the javascript console for the full traceback.`));\n",
                            "    }\n",
                            "\n",
                            "    if(typeof define === \"function\" && define.amd) {\n",
                            "      requirejs.config({paths});\n",
                            "      require([\"vega-embed\"], displayChart, err => showError(`Error loading script: ${err.message}`));\n",
                            "    } else if (typeof vegaEmbed === \"function\") {\n",
                            "      displayChart(vegaEmbed);\n",
                            "    } else {\n",
                            "      loadScript(\"vega\")\n",
                            "        .then(() => loadScript(\"vega-lite\"))\n",
                            "        .then(() => loadScript(\"vega-embed\"))\n",
                            "        .catch(showError)\n",
                            "        .then(() => displayChart(vegaEmbed));\n",
                            "    }\n",
                            "  })({\"config\": {\"view\": {\"continuousWidth\": 400, \"continuousHeight\": 300}}, \"data\": {\"name\": \"data-258955a935cd1d92461ee5a912de9f9a\"}, \"mark\": \"line\", \"encoding\": {\"color\": {\"type\": \"nominal\", \"field\": \"\\u75c7\\u72b6\"}, \"strokeDash\": {\"type\": \"nominal\", \"field\": \"\\u75c7\\u72b6\"}, \"x\": {\"type\": \"nominal\", \"field\": \"\\u65e5\\u671f\"}, \"y\": {\"type\": \"quantitative\", \"field\": \"\\u4eba\\u6570\"}}, \"height\": 400, \"title\": \"\\u5357\\u4eac\\u75ab\\u60c5 \\u6bcf\\u65e5\\u65b0\\u589e\", \"width\": 600, \"$schema\": \"https://vega.github.io/schema/vega-lite/v4.8.1.json\", \"datasets\": {\"data-258955a935cd1d92461ee5a912de9f9a\": [{\"\\u65e5\\u671f\": \"2021-07-21\", \"\\u75c7\\u72b6\": \"\\u91cd\\u75c7\", \"\\u4eba\\u6570\": 0}, {\"\\u65e5\\u671f\": \"2021-07-21\", \"\\u75c7\\u72b6\": \"\\u8f7b\\u578b\", \"\\u4eba\\u6570\": 6}, {\"\\u65e5\\u671f\": \"2021-07-21\", \"\\u75c7\\u72b6\": \"\\u65e0\\u75c7\\u72b6\", \"\\u4eba\\u6570\": 8}, {\"\\u65e5\\u671f\": \"2021-07-21\", \"\\u75c7\\u72b6\": \"\\u666e\\u901a\", \"\\u4eba\\u6570\": 5}, {\"\\u65e5\\u671f\": \"2021-07-22\", \"\\u75c7\\u72b6\": \"\\u91cd\\u75c7\", \"\\u4eba\\u6570\": 0}, {\"\\u65e5\\u671f\": \"2021-07-22\", \"\\u75c7\\u72b6\": \"\\u8f7b\\u578b\", \"\\u4eba\\u6570\": 5}, {\"\\u65e5\\u671f\": \"2021-07-22\", \"\\u75c7\\u72b6\": \"\\u65e0\\u75c7\\u72b6\", \"\\u4eba\\u6570\": 6}, {\"\\u65e5\\u671f\": \"2021-07-22\", \"\\u75c7\\u72b6\": \"\\u666e\\u901a\", \"\\u4eba\\u6570\": 7}, {\"\\u65e5\\u671f\": \"2021-07-23\", \"\\u75c7\\u72b6\": \"\\u91cd\\u75c7\", \"\\u4eba\\u6570\": 0}, {\"\\u65e5\\u671f\": \"2021-07-23\", \"\\u75c7\\u72b6\": \"\\u8f7b\\u578b\", \"\\u4eba\\u6570\": 3}, {\"\\u65e5\\u671f\": \"2021-07-23\", \"\\u75c7\\u72b6\": \"\\u666e\\u901a\", \"\\u4eba\\u6570\": 9}, {\"\\u65e5\\u671f\": \"2021-07-23\", \"\\u75c7\\u72b6\": \"\\u65e0\\u75c7\\u72b6\", \"\\u4eba\\u6570\": 4}, {\"\\u65e5\\u671f\": \"2021-07-24\", \"\\u75c7\\u72b6\": \"\\u8f7b\\u578b\", \"\\u4eba\\u6570\": 0}, {\"\\u65e5\\u671f\": \"2021-07-24\", \"\\u75c7\\u72b6\": \"\\u666e\\u901a\", \"\\u4eba\\u6570\": 2}, {\"\\u65e5\\u671f\": \"2021-07-24\", \"\\u75c7\\u72b6\": \"\\u91cd\\u75c7\", \"\\u4eba\\u6570\": 0}, {\"\\u65e5\\u671f\": \"2021-07-24\", \"\\u75c7\\u72b6\": \"\\u65e0\\u75c7\\u72b6\", \"\\u4eba\\u6570\": 2}, {\"\\u65e5\\u671f\": \"2021-07-25\", \"\\u75c7\\u72b6\": \"\\u65e0\\u75c7\\u72b6\", \"\\u4eba\\u6570\": 1}, {\"\\u65e5\\u671f\": \"2021-07-25\", \"\\u75c7\\u72b6\": \"\\u666e\\u901a\", \"\\u4eba\\u6570\": 11}, {\"\\u65e5\\u671f\": \"2021-07-25\", \"\\u75c7\\u72b6\": \"\\u8f7b\\u578b\", \"\\u4eba\\u6570\": 27}, {\"\\u65e5\\u671f\": \"2021-07-25\", \"\\u75c7\\u72b6\": \"\\u91cd\\u75c7\", \"\\u4eba\\u6570\": 0}, {\"\\u65e5\\u671f\": \"2021-07-26\", \"\\u75c7\\u72b6\": \"\\u65e0\\u75c7\\u72b6\", \"\\u4eba\\u6570\": 0}, {\"\\u65e5\\u671f\": \"2021-07-26\", \"\\u75c7\\u72b6\": \"\\u8f7b\\u578b\", \"\\u4eba\\u6570\": 28}, {\"\\u65e5\\u671f\": \"2021-07-26\", \"\\u75c7\\u72b6\": \"\\u666e\\u901a\", \"\\u4eba\\u6570\": 3}, {\"\\u65e5\\u671f\": \"2021-07-26\", \"\\u75c7\\u72b6\": \"\\u91cd\\u75c7\", \"\\u4eba\\u6570\": 0}, {\"\\u65e5\\u671f\": \"2021-07-27\", \"\\u75c7\\u72b6\": \"\\u91cd\\u75c7\", \"\\u4eba\\u6570\": 0}, {\"\\u65e5\\u671f\": \"2021-07-27\", \"\\u75c7\\u72b6\": \"\\u8f7b\\u578b\", \"\\u4eba\\u6570\": 23}, {\"\\u65e5\\u671f\": \"2021-07-27\", \"\\u75c7\\u72b6\": \"\\u65e0\\u75c7\\u72b6\", \"\\u4eba\\u6570\": 1}, {\"\\u65e5\\u671f\": \"2021-07-27\", \"\\u75c7\\u72b6\": \"\\u666e\\u901a\", \"\\u4eba\\u6570\": 24}, {\"\\u65e5\\u671f\": \"2021-07-28\", \"\\u75c7\\u72b6\": \"\\u91cd\\u75c7\", \"\\u4eba\\u6570\": 0}, {\"\\u65e5\\u671f\": \"2021-07-28\", \"\\u75c7\\u72b6\": \"\\u666e\\u901a\", \"\\u4eba\\u6570\": 8}, {\"\\u65e5\\u671f\": \"2021-07-28\", \"\\u75c7\\u72b6\": \"\\u8f7b\\u578b\", \"\\u4eba\\u6570\": 10}, {\"\\u65e5\\u671f\": \"2021-07-28\", \"\\u75c7\\u72b6\": \"\\u65e0\\u75c7\\u72b6\", \"\\u4eba\\u6570\": 0}, {\"\\u65e5\\u671f\": \"2021-07-29\", \"\\u75c7\\u72b6\": \"\\u8f7b\\u578b\", \"\\u4eba\\u6570\": 10}, {\"\\u65e5\\u671f\": \"2021-07-29\", \"\\u75c7\\u72b6\": \"\\u65e0\\u75c7\\u72b6\", \"\\u4eba\\u6570\": 1}, {\"\\u65e5\\u671f\": \"2021-07-29\", \"\\u75c7\\u72b6\": \"\\u666e\\u901a\", \"\\u4eba\\u6570\": 3}, {\"\\u65e5\\u671f\": \"2021-07-29\", \"\\u75c7\\u72b6\": \"\\u91cd\\u75c7\", \"\\u4eba\\u6570\": 0}, {\"\\u65e5\\u671f\": \"2021-07-30\", \"\\u75c7\\u72b6\": \"\\u8f7b\\u578b\", \"\\u4eba\\u6570\": 5}, {\"\\u65e5\\u671f\": \"2021-07-30\", \"\\u75c7\\u72b6\": \"\\u65e0\\u75c7\\u72b6\", \"\\u4eba\\u6570\": 0}, {\"\\u65e5\\u671f\": \"2021-07-30\", \"\\u75c7\\u72b6\": \"\\u666e\\u901a\", \"\\u4eba\\u6570\": 1}, {\"\\u65e5\\u671f\": \"2021-07-30\", \"\\u75c7\\u72b6\": \"\\u91cd\\u75c7\", \"\\u4eba\\u6570\": 0}, {\"\\u65e5\\u671f\": \"2021-07-31\", \"\\u75c7\\u72b6\": \"\\u8f7b\\u578b\", \"\\u4eba\\u6570\": 12}, {\"\\u65e5\\u671f\": \"2021-07-31\", \"\\u75c7\\u72b6\": \"\\u65e0\\u75c7\\u72b6\", \"\\u4eba\\u6570\": 0}, {\"\\u65e5\\u671f\": \"2021-07-31\", \"\\u75c7\\u72b6\": \"\\u91cd\\u75c7\", \"\\u4eba\\u6570\": 0}, {\"\\u65e5\\u671f\": \"2021-07-31\", \"\\u75c7\\u72b6\": \"\\u666e\\u901a\", \"\\u4eba\\u6570\": 2}, {\"\\u65e5\\u671f\": \"2021-08-01\", \"\\u75c7\\u72b6\": \"\\u666e\\u901a\", \"\\u4eba\\u6570\": 5}, {\"\\u65e5\\u671f\": \"2021-08-01\", \"\\u75c7\\u72b6\": \"\\u8f7b\\u578b\", \"\\u4eba\\u6570\": 6}, {\"\\u65e5\\u671f\": \"2021-08-01\", \"\\u75c7\\u72b6\": \"\\u91cd\\u75c7\", \"\\u4eba\\u6570\": 0}, {\"\\u65e5\\u671f\": \"2021-08-01\", \"\\u75c7\\u72b6\": \"\\u65e0\\u75c7\\u72b6\", \"\\u4eba\\u6570\": 0}, {\"\\u65e5\\u671f\": \"2021-08-02\", \"\\u75c7\\u72b6\": \"\\u666e\\u901a\", \"\\u4eba\\u6570\": 2}, {\"\\u65e5\\u671f\": \"2021-08-02\", \"\\u75c7\\u72b6\": \"\\u91cd\\u75c7\", \"\\u4eba\\u6570\": 0}, {\"\\u65e5\\u671f\": \"2021-08-02\", \"\\u75c7\\u72b6\": \"\\u8f7b\\u578b\", \"\\u4eba\\u6570\": 3}, {\"\\u65e5\\u671f\": \"2021-08-02\", \"\\u75c7\\u72b6\": \"\\u65e0\\u75c7\\u72b6\", \"\\u4eba\\u6570\": 0}]}}, {\"mode\": \"vega-lite\"});\n",
                            "</script>"
                        ]
                    },
                    "metadata": {},
                    "execution_count": 18
                }
            ],
            "metadata": {}
        },
        {
            "cell_type": "code",
            "execution_count": 19,
            "source": [
                "df2 = alldf.melt(id_vars=[\"日期\"],value_vars=[\"重症累计\",\"普通累计\",\"轻型累计\",\"无症状累计\"],var_name=\"症状\",value_name=\"人数\").sort_values(by=[\"日期\"])\n",
                "\n",
                "alt.Chart(df2).mark_line().encode(\n",
                "    x='日期',\n",
                "    y='人数',\n",
                "    color='症状',\n",
                "    strokeDash='症状',\n",
                ").properties(\n",
                "    title='南京疫情 每日累计',\n",
                "    width=600,\n",
                "    height=400\n",
                ")"
            ],
            "outputs": [
                {
                    "output_type": "execute_result",
                    "data": {
                        "text/plain": [
                            "alt.Chart(...)"
                        ],
                        "text/html": [
                            "\n",
                            "<div id=\"altair-viz-5356278c38374f02a93a4149455567af\"></div>\n",
                            "<script type=\"text/javascript\">\n",
                            "  (function(spec, embedOpt){\n",
                            "    let outputDiv = document.currentScript.previousElementSibling;\n",
                            "    if (outputDiv.id !== \"altair-viz-5356278c38374f02a93a4149455567af\") {\n",
                            "      outputDiv = document.getElementById(\"altair-viz-5356278c38374f02a93a4149455567af\");\n",
                            "    }\n",
                            "    const paths = {\n",
                            "      \"vega\": \"https://cdn.jsdelivr.net/npm//vega@5?noext\",\n",
                            "      \"vega-lib\": \"https://cdn.jsdelivr.net/npm//vega-lib?noext\",\n",
                            "      \"vega-lite\": \"https://cdn.jsdelivr.net/npm//vega-lite@4.8.1?noext\",\n",
                            "      \"vega-embed\": \"https://cdn.jsdelivr.net/npm//vega-embed@6?noext\",\n",
                            "    };\n",
                            "\n",
                            "    function loadScript(lib) {\n",
                            "      return new Promise(function(resolve, reject) {\n",
                            "        var s = document.createElement('script');\n",
                            "        s.src = paths[lib];\n",
                            "        s.async = true;\n",
                            "        s.onload = () => resolve(paths[lib]);\n",
                            "        s.onerror = () => reject(`Error loading script: ${paths[lib]}`);\n",
                            "        document.getElementsByTagName(\"head\")[0].appendChild(s);\n",
                            "      });\n",
                            "    }\n",
                            "\n",
                            "    function showError(err) {\n",
                            "      outputDiv.innerHTML = `<div class=\"error\" style=\"color:red;\">${err}</div>`;\n",
                            "      throw err;\n",
                            "    }\n",
                            "\n",
                            "    function displayChart(vegaEmbed) {\n",
                            "      vegaEmbed(outputDiv, spec, embedOpt)\n",
                            "        .catch(err => showError(`Javascript Error: ${err.message}<br>This usually means there's a typo in your chart specification. See the javascript console for the full traceback.`));\n",
                            "    }\n",
                            "\n",
                            "    if(typeof define === \"function\" && define.amd) {\n",
                            "      requirejs.config({paths});\n",
                            "      require([\"vega-embed\"], displayChart, err => showError(`Error loading script: ${err.message}`));\n",
                            "    } else if (typeof vegaEmbed === \"function\") {\n",
                            "      displayChart(vegaEmbed);\n",
                            "    } else {\n",
                            "      loadScript(\"vega\")\n",
                            "        .then(() => loadScript(\"vega-lite\"))\n",
                            "        .then(() => loadScript(\"vega-embed\"))\n",
                            "        .catch(showError)\n",
                            "        .then(() => displayChart(vegaEmbed));\n",
                            "    }\n",
                            "  })({\"config\": {\"view\": {\"continuousWidth\": 400, \"continuousHeight\": 300}}, \"data\": {\"name\": \"data-1826b41f2406509d890d7eb6d1eee974\"}, \"mark\": \"line\", \"encoding\": {\"color\": {\"type\": \"nominal\", \"field\": \"\\u75c7\\u72b6\"}, \"strokeDash\": {\"type\": \"nominal\", \"field\": \"\\u75c7\\u72b6\"}, \"x\": {\"type\": \"nominal\", \"field\": \"\\u65e5\\u671f\"}, \"y\": {\"type\": \"quantitative\", \"field\": \"\\u4eba\\u6570\"}}, \"height\": 400, \"title\": \"\\u5357\\u4eac\\u75ab\\u60c5 \\u6bcf\\u65e5\\u7d2f\\u8ba1\", \"width\": 600, \"$schema\": \"https://vega.github.io/schema/vega-lite/v4.8.1.json\", \"datasets\": {\"data-1826b41f2406509d890d7eb6d1eee974\": [{\"\\u65e5\\u671f\": \"2021-07-21\", \"\\u75c7\\u72b6\": \"\\u91cd\\u75c7\\u7d2f\\u8ba1\", \"\\u4eba\\u6570\": 0}, {\"\\u65e5\\u671f\": \"2021-07-21\", \"\\u75c7\\u72b6\": \"\\u8f7b\\u578b\\u7d2f\\u8ba1\", \"\\u4eba\\u6570\": 6}, {\"\\u65e5\\u671f\": \"2021-07-21\", \"\\u75c7\\u72b6\": \"\\u65e0\\u75c7\\u72b6\\u7d2f\\u8ba1\", \"\\u4eba\\u6570\": 8}, {\"\\u65e5\\u671f\": \"2021-07-21\", \"\\u75c7\\u72b6\": \"\\u666e\\u901a\\u7d2f\\u8ba1\", \"\\u4eba\\u6570\": 5}, {\"\\u65e5\\u671f\": \"2021-07-22\", \"\\u75c7\\u72b6\": \"\\u91cd\\u75c7\\u7d2f\\u8ba1\", \"\\u4eba\\u6570\": 0}, {\"\\u65e5\\u671f\": \"2021-07-22\", \"\\u75c7\\u72b6\": \"\\u8f7b\\u578b\\u7d2f\\u8ba1\", \"\\u4eba\\u6570\": 11}, {\"\\u65e5\\u671f\": \"2021-07-22\", \"\\u75c7\\u72b6\": \"\\u65e0\\u75c7\\u72b6\\u7d2f\\u8ba1\", \"\\u4eba\\u6570\": 14}, {\"\\u65e5\\u671f\": \"2021-07-22\", \"\\u75c7\\u72b6\": \"\\u666e\\u901a\\u7d2f\\u8ba1\", \"\\u4eba\\u6570\": 12}, {\"\\u65e5\\u671f\": \"2021-07-23\", \"\\u75c7\\u72b6\": \"\\u91cd\\u75c7\\u7d2f\\u8ba1\", \"\\u4eba\\u6570\": 0}, {\"\\u65e5\\u671f\": \"2021-07-23\", \"\\u75c7\\u72b6\": \"\\u8f7b\\u578b\\u7d2f\\u8ba1\", \"\\u4eba\\u6570\": 14}, {\"\\u65e5\\u671f\": \"2021-07-23\", \"\\u75c7\\u72b6\": \"\\u666e\\u901a\\u7d2f\\u8ba1\", \"\\u4eba\\u6570\": 21}, {\"\\u65e5\\u671f\": \"2021-07-23\", \"\\u75c7\\u72b6\": \"\\u65e0\\u75c7\\u72b6\\u7d2f\\u8ba1\", \"\\u4eba\\u6570\": 18}, {\"\\u65e5\\u671f\": \"2021-07-24\", \"\\u75c7\\u72b6\": \"\\u8f7b\\u578b\\u7d2f\\u8ba1\", \"\\u4eba\\u6570\": 14}, {\"\\u65e5\\u671f\": \"2021-07-24\", \"\\u75c7\\u72b6\": \"\\u666e\\u901a\\u7d2f\\u8ba1\", \"\\u4eba\\u6570\": 23}, {\"\\u65e5\\u671f\": \"2021-07-24\", \"\\u75c7\\u72b6\": \"\\u91cd\\u75c7\\u7d2f\\u8ba1\", \"\\u4eba\\u6570\": 0}, {\"\\u65e5\\u671f\": \"2021-07-24\", \"\\u75c7\\u72b6\": \"\\u65e0\\u75c7\\u72b6\\u7d2f\\u8ba1\", \"\\u4eba\\u6570\": 20}, {\"\\u65e5\\u671f\": \"2021-07-25\", \"\\u75c7\\u72b6\": \"\\u65e0\\u75c7\\u72b6\\u7d2f\\u8ba1\", \"\\u4eba\\u6570\": 13}, {\"\\u65e5\\u671f\": \"2021-07-25\", \"\\u75c7\\u72b6\": \"\\u666e\\u901a\\u7d2f\\u8ba1\", \"\\u4eba\\u6570\": 32}, {\"\\u65e5\\u671f\": \"2021-07-25\", \"\\u75c7\\u72b6\": \"\\u8f7b\\u578b\\u7d2f\\u8ba1\", \"\\u4eba\\u6570\": 41}, {\"\\u65e5\\u671f\": \"2021-07-25\", \"\\u75c7\\u72b6\": \"\\u91cd\\u75c7\\u7d2f\\u8ba1\", \"\\u4eba\\u6570\": 2}, {\"\\u65e5\\u671f\": \"2021-07-26\", \"\\u75c7\\u72b6\": \"\\u65e0\\u75c7\\u72b6\\u7d2f\\u8ba1\", \"\\u4eba\\u6570\": 6}, {\"\\u65e5\\u671f\": \"2021-07-26\", \"\\u75c7\\u72b6\": \"\\u8f7b\\u578b\\u7d2f\\u8ba1\", \"\\u4eba\\u6570\": 66}, {\"\\u65e5\\u671f\": \"2021-07-26\", \"\\u75c7\\u72b6\": \"\\u666e\\u901a\\u7d2f\\u8ba1\", \"\\u4eba\\u6570\": 38}, {\"\\u65e5\\u671f\": \"2021-07-26\", \"\\u75c7\\u72b6\": \"\\u91cd\\u75c7\\u7d2f\\u8ba1\", \"\\u4eba\\u6570\": 2}, {\"\\u65e5\\u671f\": \"2021-07-27\", \"\\u75c7\\u72b6\": \"\\u91cd\\u75c7\\u7d2f\\u8ba1\", \"\\u4eba\\u6570\": 4}, {\"\\u65e5\\u671f\": \"2021-07-27\", \"\\u75c7\\u72b6\": \"\\u8f7b\\u578b\\u7d2f\\u8ba1\", \"\\u4eba\\u6570\": 81}, {\"\\u65e5\\u671f\": \"2021-07-27\", \"\\u75c7\\u72b6\": \"\\u65e0\\u75c7\\u72b6\\u7d2f\\u8ba1\", \"\\u4eba\\u6570\": 2}, {\"\\u65e5\\u671f\": \"2021-07-27\", \"\\u75c7\\u72b6\": \"\\u666e\\u901a\\u7d2f\\u8ba1\", \"\\u4eba\\u6570\": 68}, {\"\\u65e5\\u671f\": \"2021-07-28\", \"\\u75c7\\u72b6\": \"\\u91cd\\u75c7\\u7d2f\\u8ba1\", \"\\u4eba\\u6570\": 7}, {\"\\u65e5\\u671f\": \"2021-07-28\", \"\\u75c7\\u72b6\": \"\\u666e\\u901a\\u7d2f\\u8ba1\", \"\\u4eba\\u6570\": 86}, {\"\\u65e5\\u671f\": \"2021-07-28\", \"\\u75c7\\u72b6\": \"\\u8f7b\\u578b\\u7d2f\\u8ba1\", \"\\u4eba\\u6570\": 78}, {\"\\u65e5\\u671f\": \"2021-07-28\", \"\\u75c7\\u72b6\": \"\\u65e0\\u75c7\\u72b6\\u7d2f\\u8ba1\", \"\\u4eba\\u6570\": 2}, {\"\\u65e5\\u671f\": \"2021-07-29\", \"\\u75c7\\u72b6\": \"\\u8f7b\\u578b\\u7d2f\\u8ba1\", \"\\u4eba\\u6570\": 82}, {\"\\u65e5\\u671f\": \"2021-07-29\", \"\\u75c7\\u72b6\": \"\\u65e0\\u75c7\\u72b6\\u7d2f\\u8ba1\", \"\\u4eba\\u6570\": 1}, {\"\\u65e5\\u671f\": \"2021-07-29\", \"\\u75c7\\u72b6\": \"\\u666e\\u901a\\u7d2f\\u8ba1\", \"\\u4eba\\u6570\": 94}, {\"\\u65e5\\u671f\": \"2021-07-29\", \"\\u75c7\\u72b6\": \"\\u91cd\\u75c7\\u7d2f\\u8ba1\", \"\\u4eba\\u6570\": 8}, {\"\\u65e5\\u671f\": \"2021-07-30\", \"\\u75c7\\u72b6\": \"\\u8f7b\\u578b\\u7d2f\\u8ba1\", \"\\u4eba\\u6570\": 87}, {\"\\u65e5\\u671f\": \"2021-07-30\", \"\\u75c7\\u72b6\": \"\\u65e0\\u75c7\\u72b6\\u7d2f\\u8ba1\", \"\\u4eba\\u6570\": 1}, {\"\\u65e5\\u671f\": \"2021-07-30\", \"\\u75c7\\u72b6\": \"\\u666e\\u901a\\u7d2f\\u8ba1\", \"\\u4eba\\u6570\": 95}, {\"\\u65e5\\u671f\": \"2021-07-30\", \"\\u75c7\\u72b6\": \"\\u91cd\\u75c7\\u7d2f\\u8ba1\", \"\\u4eba\\u6570\": 8}, {\"\\u65e5\\u671f\": \"2021-07-31\", \"\\u75c7\\u72b6\": \"\\u8f7b\\u578b\\u7d2f\\u8ba1\", \"\\u4eba\\u6570\": 83}, {\"\\u65e5\\u671f\": \"2021-07-31\", \"\\u75c7\\u72b6\": \"\\u65e0\\u75c7\\u72b6\\u7d2f\\u8ba1\", \"\\u4eba\\u6570\": 0}, {\"\\u65e5\\u671f\": \"2021-07-31\", \"\\u75c7\\u72b6\": \"\\u91cd\\u75c7\\u7d2f\\u8ba1\", \"\\u4eba\\u6570\": 7}, {\"\\u65e5\\u671f\": \"2021-07-31\", \"\\u75c7\\u72b6\": \"\\u666e\\u901a\\u7d2f\\u8ba1\", \"\\u4eba\\u6570\": 114}, {\"\\u65e5\\u671f\": \"2021-08-01\", \"\\u75c7\\u72b6\": \"\\u666e\\u901a\\u7d2f\\u8ba1\", \"\\u4eba\\u6570\": 127}, {\"\\u65e5\\u671f\": \"2021-08-01\", \"\\u75c7\\u72b6\": \"\\u8f7b\\u578b\\u7d2f\\u8ba1\", \"\\u4eba\\u6570\": 81}, {\"\\u65e5\\u671f\": \"2021-08-01\", \"\\u75c7\\u72b6\": \"\\u91cd\\u75c7\\u7d2f\\u8ba1\", \"\\u4eba\\u6570\": 7}, {\"\\u65e5\\u671f\": \"2021-08-01\", \"\\u75c7\\u72b6\": \"\\u65e0\\u75c7\\u72b6\\u7d2f\\u8ba1\", \"\\u4eba\\u6570\": 0}, {\"\\u65e5\\u671f\": \"2021-08-02\", \"\\u75c7\\u72b6\": \"\\u666e\\u901a\\u7d2f\\u8ba1\", \"\\u4eba\\u6570\": 132}, {\"\\u65e5\\u671f\": \"2021-08-02\", \"\\u75c7\\u72b6\": \"\\u91cd\\u75c7\\u7d2f\\u8ba1\", \"\\u4eba\\u6570\": 6}, {\"\\u65e5\\u671f\": \"2021-08-02\", \"\\u75c7\\u72b6\": \"\\u8f7b\\u578b\\u7d2f\\u8ba1\", \"\\u4eba\\u6570\": 82}, {\"\\u65e5\\u671f\": \"2021-08-02\", \"\\u75c7\\u72b6\": \"\\u65e0\\u75c7\\u72b6\\u7d2f\\u8ba1\", \"\\u4eba\\u6570\": 0}]}}, {\"mode\": \"vega-lite\"});\n",
                            "</script>"
                        ]
                    },
                    "metadata": {},
                    "execution_count": 19
                }
            ],
            "metadata": {}
        }
    ],
    "metadata": {
        "orig_nbformat": 4,
        "language_info": {
            "name": "python",
            "version": "3.7.0",
            "mimetype": "text/x-python",
            "codemirror_mode": {
                "name": "ipython",
                "version": 3
            },
            "pygments_lexer": "ipython3",
            "nbconvert_exporter": "python",
            "file_extension": ".py"
        },
        "kernelspec": {
            "name": "python3",
            "display_name": "Python 3.7.0 64-bit"
        },
        "interpreter": {
            "hash": "aee8b7b246df8f9039afb4144a1f6fd8d2ca17a180786b69acc140d282b71a49"
        }
    },
    "nbformat": 4,
    "nbformat_minor": 2
}